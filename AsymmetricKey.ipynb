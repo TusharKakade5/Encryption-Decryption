{
 "cells": [
  {
   "cell_type": "code",
   "execution_count": 1,
   "metadata": {},
   "outputs": [
    {
     "name": "stdout",
     "output_type": "stream",
     "text": [
      "Key Matrix:\n",
      " [[ 3  9 27]\n",
      " [ 1  1  1]\n",
      " [ 2  4  8]]\n",
      "Eigen Values:  [5.+0.j 2.+0.j]\n",
      "The Message to be Encrypted:  WelcomeTo\n",
      "Numerical Equivalent:  [23, 5, 12, 3, 15, 13, 5, 20, 15]\n",
      "Public Key:\n",
      " [[1.         0.         0.        ]\n",
      " [0.33333333 1.         0.        ]\n",
      " [0.66666667 1.         1.        ]]\n",
      "The Encrypted Message:\n",
      "woybdtntx\n"
     ]
    }
   ],
   "source": [
    "#Defining a non singular matrix as Key from which the Public Key and Private Key are derived\n",
    "import numpy as np\n",
    "import scipy.linalg\n",
    "#Dictionary for AlphaNumeric values\n",
    "AlphaNums = { \"a\":1, \"b\":2, \"c\":3,\"d\":4, \"e\":5, \"f\":6, \"g\":7, \"h\":8, \"i\":9, \"j\":10, \"k\":11, \"l\":12, \"m\":13, \"n\":14,\n",
    "             \"o\":15,\"p\":16, \"q\":17, \"r\":18, \"s\":19, \"t\":20, \"u\":21, \"v\":22, \"w\":23, \"x\":24, \"y\":25, \"z\":26, \" \":0}\n",
    "\n",
    "K=np.array([[3,9,27],[1,1,1],[2,4,8]])\n",
    "print(\"Key Matrix:\\n\",K)\n",
    "\n",
    "#Find Eigen Values\n",
    "w, v = scipy.linalg.eig(np.array([[4, 1], [2, 3]]))\n",
    "print(\"Eigen Values: \",w)\n",
    "#print(v)\n",
    "\n",
    "#Using scipy library for LU Decomposition we have\n",
    "#L = Public Key for Encryption \n",
    "m = K.shape\n",
    "P, L, U = scipy.linalg.lu(K)\n",
    "\n",
    "#Rewriting K as product of L & U for further computations\n",
    "K=np.dot(L,U)\n",
    "\n",
    "#Message to be Encrypted\n",
    "Msg=\"WelcomeTo\"\n",
    "Len = len(Msg)\n",
    "print(\"The Message to be Encrypted: \", Msg)\n",
    "\n",
    "#Converting message to a list\n",
    "H = list(Msg)\n",
    "X = list()\n",
    "N = list()\n",
    "for ch in H:\n",
    "    X.append(AlphaNums[ch.lower()])\n",
    "print(\"Numerical Equivalent: \",X)\n",
    "\n",
    "#Converting the numerical equivalent message into array blocks of size(2 x 1)\n",
    "H = np.array(X)\n",
    "\n",
    "N=np.array_split(H,(Len/m[0]))\n",
    "H=[N[0],N[1],N[2]]\n",
    "\n",
    "\n",
    "#Choosing a random matrix A which will act as Hash for XoR operation\n",
    "A=np.array([[3,2,7],[2,3,1],[3,4,1]])\n",
    "\n",
    "#Using Xor operation to find the Cipher matrix\n",
    "Ic = A ^ H\n",
    "\n",
    "#Computing the Constant Matrix Cons\n",
    "Cons=np.dot(K,Ic)\n",
    "\n",
    "#Encrypting the message using lower triangular matrix as encryption key\n",
    "print(\"Public Key:\\n\",L)\n",
    "Linv = np.linalg.inv(L)\n",
    "Y=np.around(np.dot(Linv,Cons))\n",
    "\n",
    "Encrypted=[]\n",
    "for c in Y:\n",
    "    for d in c:\n",
    "        for K,V in AlphaNums.items():\n",
    "            if V == round(d%26):\n",
    "                Encrypted.extend(K)\n",
    "\n",
    "Enystr=\"\";\n",
    "for a in Encrypted:\n",
    "    Enystr += a\n",
    "print(\"The Encrypted Message:\")\n",
    "print(Enystr)"
   ]
  },
  {
   "cell_type": "code",
   "execution_count": 2,
   "metadata": {},
   "outputs": [
    {
     "name": "stdout",
     "output_type": "stream",
     "text": [
      "Private Key:\n",
      " [[ 3.  9. 27.]\n",
      " [ 0. -2. -8.]\n",
      " [ 0.  0. -2.]]\n",
      "The Decrypted Message:\n",
      "welcometo\n"
     ]
    }
   ],
   "source": [
    "#Decrypting the encoded Message using Private Key U\n",
    "print(\"Private Key:\\n\",U)\n",
    "Uinv = np.linalg.inv(U)\n",
    "Ic1=np.dot(Uinv,Y)\n",
    "\n",
    "Df=np.empty((3, 3))\n",
    "for i in range(0,3):\n",
    "    for j in range(0,3):\n",
    "        Df[i][j] = int(np.round(Ic1[i][j]))^A[i][j]\n",
    "\n",
    "D2=[]\n",
    "for i in range(0,3):\n",
    "    for j in range(0,3):\n",
    "        for K,V in AlphaNums.items():\n",
    "            if V == int(Df[i][j]):\n",
    "                D2.extend(K)\n",
    "\n",
    "Dcystr=\"\"\n",
    "for a in D2:\n",
    "    Dcystr += a\n",
    "print(\"The Decrypted Message:\")\n",
    "print(Dcystr)"
   ]
  },
  {
   "cell_type": "code",
   "execution_count": null,
   "metadata": {},
   "outputs": [],
   "source": []
  }
 ],
 "metadata": {
  "kernelspec": {
   "display_name": "Python 3",
   "language": "python",
   "name": "python3"
  },
  "language_info": {
   "codemirror_mode": {
    "name": "ipython",
    "version": 3
   },
   "file_extension": ".py",
   "mimetype": "text/x-python",
   "name": "python",
   "nbconvert_exporter": "python",
   "pygments_lexer": "ipython3",
   "version": "3.8.3"
  }
 },
 "nbformat": 4,
 "nbformat_minor": 4
}
