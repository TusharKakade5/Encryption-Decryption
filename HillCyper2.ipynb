{
 "cells": [
  {
   "cell_type": "markdown",
   "metadata": {},
   "source": [
    "Symmetric Key Cryptography using LU Factorization\n",
    "1) Define a Non singular Matrix A nof size (2 x 2), this will act as our Key.\n",
    "\n",
    "2) Using Inbuilt Python function we compute L & U matrix for A "
   ]
  },
  {
   "cell_type": "code",
   "execution_count": 1,
   "metadata": {},
   "outputs": [
    {
     "name": "stdout",
     "output_type": "stream",
     "text": [
      "A:\n",
      "array([[4, 1],\n",
      "       [2, 3]])\n",
      "P:\n",
      "array([[1., 0.],\n",
      "       [0., 1.]])\n",
      "L:\n",
      "array([[1. , 0. ],\n",
      "       [0.5, 1. ]])\n",
      "U:\n",
      "array([[4. , 1. ],\n",
      "       [0. , 2.5]])\n",
      "2\n"
     ]
    }
   ],
   "source": [
    "import pprint\n",
    "import numpy\n",
    "import scipy\n",
    "import scipy.linalg   # SciPy Linear Algebra Library\n",
    "\n",
    "\n",
    "A =numpy.array([ [4, 1], [2, 3]])\n",
    "m= A.shape\n",
    "P, L, U = scipy.linalg.lu(A)\n",
    "\n",
    "print(\"A:\")\n",
    "pprint.pprint(A)\n",
    "\n",
    "print(\"P:\")\n",
    "pprint.pprint(P)\n",
    "\n",
    "print(\"L:\")\n",
    "pprint.pprint(L)\n",
    "\n",
    "print(\"U:\")\n",
    "pprint.pprint(U)\n",
    "\n",
    "print(m[0])\n"
   ]
  },
  {
   "cell_type": "markdown",
   "metadata": {},
   "source": [
    "Define the Numerical Alphabet relative dictionary.\n",
    "Convert the Message into its numerical equivalent. "
   ]
  },
  {
   "cell_type": "code",
   "execution_count": 2,
   "metadata": {},
   "outputs": [
    {
     "name": "stdout",
     "output_type": "stream",
     "text": [
      "['T', 'h', 'e', ' ', 's', 't', 'u', 'd', 'y', ' ', 'o', 'f', ' ', 'm', 'e', 't', 'h', 'o', 'd', 's', ' ', 'f', 'o', 'r', ' ', 's', 'e', 'n', 'd', 'i', 'n', 'g', ' ', 'm', 'e', 's', 's', 'a', 'g', 'e', 's', ' ', 'i', 'n', ' ', 's', 'e', 'c', 'u', 'r', 'e', ' ', 'f', 'o', 'r', 'm', ' ', 'i', 'n', ' ', 's', 'u', 'c', 'h', ' ', 'a', ' ', 'w', 'a', 'y', ' ', 's', 'o', ' ', 't', 'h', 'a', 't', ' ', 'o', 'n', 'l', 'y', ' ', 'r', 'e', 'c', 'e', 'i', 'v', 'e', 'r', ' ', 'c', 'a', 'n', ' ', 'b', 'e', ' ', 'a', 'b', 'l', 'e', ' ', 't', 'o', ' ', 'r', 'e', 'a', 'd', ' ', 'i', 't', ' ', 'i', 's', ' ', 'k', 'n', 'o', 'w', 'n', ' ', 'a', 's', ' ', 'c', 'r', 'y', 'p', 't', 'o', 'g', 'r', 'a', 'p', 'h', 'y']\n",
      "140\n",
      "[20, 8, 5, 0, 19, 20, 21, 4, 25, 0, 15, 6, 0, 13, 5, 20, 8, 15, 4, 19, 0, 6, 15, 18, 0, 19, 5, 14, 4, 9, 14, 7, 0, 13, 5, 19, 19, 1, 7, 5, 19, 0, 9, 14, 0, 19, 5, 3, 21, 18, 5, 0, 6, 15, 18, 13, 0, 9, 14, 0, 19, 21, 3, 8, 0, 1, 0, 23, 1, 25, 0, 19, 15, 0, 20, 8, 1, 20, 0, 15, 14, 12, 25, 0, 18, 5, 3, 5, 9, 22, 5, 18, 0, 3, 1, 14, 0, 2, 5, 0, 1, 2, 12, 5, 0, 20, 15, 0, 18, 5, 1, 4, 0, 9, 20, 0, 9, 19, 0, 11, 14, 15, 23, 14, 0, 1, 19, 0, 3, 18, 25, 16, 20, 15, 7, 18, 1, 16, 8, 25]\n",
      "[20  8  5  0 19 20 21  4 25  0 15  6  0 13  5 20  8 15  4 19  0  6 15 18\n",
      "  0 19  5 14  4  9 14  7  0 13  5 19 19  1  7  5 19  0  9 14  0 19  5  3\n",
      " 21 18  5  0  6 15 18 13  0  9 14  0 19 21  3  8  0  1  0 23  1 25  0 19\n",
      " 15  0 20  8  1 20  0 15 14 12 25  0 18  5  3  5  9 22  5 18  0  3  1 14\n",
      "  0  2  5  0  1  2 12  5  0 20 15  0 18  5  1  4  0  9 20  0  9 19  0 11\n",
      " 14 15 23 14  0  1 19  0  3 18 25 16 20 15  7 18  1 16  8 25]\n",
      "[20  8]\n"
     ]
    }
   ],
   "source": [
    "import numpy as np\n",
    "AlphaNums = { \"a\":1, \"b\":2, \"c\":3,\"d\":4, \"e\":5, \"f\":6, \"g\":7, \"h\":8, \"i\":9, \"j\":10, \"k\":11, \"l\":12, \"m\":13, \"n\":14, \"o\":15,\"p\":16, \"q\":17, \"r\":18, \"s\":19, \"t\":20, \"u\":21, \"v\":22, \"w\":23, \"x\":24, \"y\":25, \"z\":26, \" \":0}\n",
    "H=[]\n",
    "file = open('DataSet1.txt', 'r')  \n",
    "while 1: \n",
    "      \n",
    "    # read by character \n",
    "    char = file.read(1)           \n",
    "    if not char:  \n",
    "        break\n",
    "\n",
    "    H.append(char)\n",
    "print(H)\n",
    "\n",
    "Len = len(H)\n",
    "print(Len)\n",
    "file.close() \n",
    "\n",
    "#Converting message to a list\n",
    "X = list()\n",
    "N = list()\n",
    "for ch in H:\n",
    "    AlphaNums[ch.lower()]\n",
    "    X.append(AlphaNums[ch.lower()])\n",
    "print(X)\n",
    "#Converting the numerical equivalent message into array blocks of size(2 x 1)\n",
    "P = np.array(X)\n",
    "print(P)\n",
    "N=np.array_split(P,(Len/2))\n",
    "print(N[0]) "
   ]
  },
  {
   "cell_type": "code",
   "execution_count": 3,
   "metadata": {},
   "outputs": [
    {
     "name": "stdout",
     "output_type": "stream",
     "text": [
      "[[4. 1.]\n",
      " [2. 3.]]\n",
      "[10.0, 12.0, 20.0, 10.0, 18.0, 20.0, 10.0, 2.0, 22.0, 24.0, 14.0, 22.0, 13.0, 13.0, 14.0, 18.0, 21.0, 9.0, 9.0, 13.0, 6.0, 18.0, 0.0, 6.0, 19.0, 5.0, 8.0, 0.0, 25.0, 9.0, 11.0, 23.0, 13.0, 13.0, 13.0, 15.0, 25.0, 15.0, 7.0, 3.0, 24.0, 12.0, 24.0, 8.0, 19.0, 5.0, 23.0, 19.0, 24.0, 18.0, 20.0, 10.0, 13.0, 5.0, 7.0, 23.0, 9.0, 1.0, 4.0, 2.0, 19.0, 23.0, 20.0, 4.0, 1.0, 3.0, 23.0, 17.0, 3.0, 25.0, 19.0, 5.0, 8.0, 4.0, 10.0, 12.0, 24.0, 10.0, 15.0, 19.0, 16.0, 12.0, 22.0, 24.0, 25.0, 25.0, 17.0, 21.0, 6.0, 6.0, 12.0, 12.0, 3.0, 9.0, 18.0, 18.0, 2.0, 6.0, 20.0, 10.0, 6.0, 8.0, 1.0, 13.0, 20.0, 8.0, 8.0, 4.0, 25.0, 25.0, 8.0, 14.0, 9.0, 1.0, 2.0, 14.0, 3.0, 23.0, 11.0, 7.0, 19.0, 21.0, 2.0, 10.0, 1.0, 3.0, 24.0, 12.0, 4.0, 8.0, 12.0, 20.0, 17.0, 7.0, 20.0, 16.0, 20.0, 24.0, 5.0, 13.0]\n",
      "['j', 'l', 't', 'j', 'r', 't', 'j', 'b', 'v', 'x', 'n', 'v', 'm', 'm', 'n', 'r', 'u', 'i', 'i', 'm', 'f', 'r', ' ', 'f', 's', 'e', 'h', ' ', 'y', 'i', 'k', 'w', 'm', 'm', 'm', 'o', 'y', 'o', 'g', 'c', 'x', 'l', 'x', 'h', 's', 'e', 'w', 's', 'x', 'r', 't', 'j', 'm', 'e', 'g', 'w', 'i', 'a', 'd', 'b', 's', 'w', 't', 'd', 'a', 'c', 'w', 'q', 'c', 'y', 's', 'e', 'h', 'd', 'j', 'l', 'x', 'j', 'o', 's', 'p', 'l', 'v', 'x', 'y', 'y', 'q', 'u', 'f', 'f', 'l', 'l', 'c', 'i', 'r', 'r', 'b', 'f', 't', 'j', 'f', 'h', 'a', 'm', 't', 'h', 'h', 'd', 'y', 'y', 'h', 'n', 'i', 'a', 'b', 'n', 'c', 'w', 'k', 'g', 's', 'u', 'b', 'j', 'a', 'c', 'x', 'l', 'd', 'h', 'l', 't', 'q', 'g', 't', 'p', 't', 'x', 'e', 'm']\n",
      "The Encrypted Message:\n",
      "jltjrtjbvxnvmmnruiimfr fseh yikwmmmoyogcxlxhsewsxrtjmegwiadbswtdacwqcysehdjlxjosplvxyyquffllcirrbftjfhamthhdyyhniabncwkgsubjacxldhltqgtptxem\n"
     ]
    }
   ],
   "source": [
    "#Encrypt the message\n",
    "#Apply Enccryption formula\n",
    "K = np.dot(L,U)\n",
    "print(K)\n",
    "Ey=[]\n",
    "J={}\n",
    "C={}\n",
    "k=int(Len/2);\n",
    "for i in range(0,k):\n",
    "    J[i] = (np.dot(K,N[i]))\n",
    "    C[i]=J[i]%26\n",
    "    C[i].tolist()\n",
    "    Ey.extend(C[i])\n",
    "print(Ey)\n",
    "\n",
    "Encrypted=[]\n",
    "for c in Ey:\n",
    "    for K,V in AlphaNums.items():\n",
    "        if V == (c):\n",
    "            Encrypted.extend(K)\n",
    "print(Encrypted)\n",
    "\n",
    "Enystr=\"\";\n",
    "for a in Encrypted:\n",
    "    Enystr += a\n",
    "print(\"The Encrypted Message:\")\n",
    "print(Enystr)"
   ]
  },
  {
   "cell_type": "code",
   "execution_count": 4,
   "metadata": {},
   "outputs": [
    {
     "name": "stdout",
     "output_type": "stream",
     "text": [
      "[[ 0.3 -0.1]\n",
      " [-0.2  0.4]]\n"
     ]
    }
   ],
   "source": [
    "#Decryption of a Message\n",
    "#Find the inverse of LU\n",
    "D = np.dot(L,U)\n",
    "I = np.linalg.inv(D)\n",
    "print(I)"
   ]
  },
  {
   "cell_type": "code",
   "execution_count": 5,
   "metadata": {},
   "outputs": [
    {
     "name": "stdout",
     "output_type": "stream",
     "text": [
      "[20.  8.]\n",
      "[5. 0.]\n",
      "[19. 20.]\n",
      "[21.  4.]\n",
      "[25.  0.]\n",
      "[15.  6.]\n",
      "[26. 13.]\n",
      "[ 5. 20.]\n",
      "[ 8. 15.]\n",
      "[ 4. 19.]\n",
      "[26.  6.]\n",
      "[15. 18.]\n",
      "[ 0. 19.]\n",
      "[ 5. 14.]\n",
      "[4. 9.]\n",
      "[14.  7.]\n",
      "[26. 13.]\n",
      "[ 5. 19.]\n",
      "[19.  1.]\n",
      "[7. 5.]\n",
      "[19.  0.]\n",
      "[ 9. 14.]\n",
      "[ 0. 19.]\n",
      "[5. 3.]\n",
      "[21. 18.]\n",
      "[5. 0.]\n",
      "[ 6. 15.]\n",
      "[18. 13.]\n",
      "[26.  9.]\n",
      "[14.  0.]\n",
      "[19. 21.]\n",
      "[3. 8.]\n",
      "[26.  1.]\n",
      "[26. 23.]\n",
      "[ 1. 25.]\n",
      "[ 0. 19.]\n",
      "[15.  0.]\n",
      "[20.  8.]\n",
      "[ 1. 20.]\n",
      "[ 0. 15.]\n",
      "[14. 12.]\n",
      "[25.  0.]\n",
      "[18.  5.]\n",
      "[3. 5.]\n",
      "[ 9. 22.]\n",
      "[ 5. 18.]\n",
      "[26.  3.]\n",
      "[ 1. 14.]\n",
      "[26.  2.]\n",
      "[5. 0.]\n",
      "[1. 2.]\n",
      "[12.  5.]\n",
      "[ 0. 20.]\n",
      "[15.  0.]\n",
      "[18.  5.]\n",
      "[1. 4.]\n",
      "[26.  9.]\n",
      "[20.  0.]\n",
      "[ 9. 19.]\n",
      "[26. 11.]\n",
      "[14. 15.]\n",
      "[23. 14.]\n",
      "[26.  1.]\n",
      "[19.  0.]\n",
      "[ 3. 18.]\n",
      "[25. 16.]\n",
      "[20. 15.]\n",
      "[ 7. 18.]\n",
      "[ 1. 16.]\n",
      "[ 8. 25.]\n",
      "[20.0, 8.0, 5.0, 0.0, 18.999999999999996, 20.0, 21.0, 4.0, 25.0, 0.0, 15.0, 6.000000000000002, 26.0, 13.000000000000002, 5.0, 20.0, 7.999999999999999, 15.000000000000002, 4.0, 19.0, 26.0, 6.0, 14.999999999999998, 18.0, 0.0, 19.0, 4.999999999999999, 14.0, 4.0, 9.0, 13.999999999999998, 7.0, 26.0, 13.000000000000002, 4.999999999999999, 19.0, 18.999999999999996, 1.0000000000000018, 7.0, 5.000000000000001, 19.0, 0.0, 9.0, 14.0, 0.0, 19.0, 4.999999999999999, 3.0, 20.999999999999996, 18.000000000000004, 5.0, 0.0, 5.999999999999999, 15.0, 18.0, 13.0, 26.0, 9.0, 14.0, 0.0, 18.999999999999996, 21.000000000000004, 3.0, 8.0, 26.0, 1.0000000000000002, 26.0, 23.0, 0.9999999999999991, 25.0, 0.0, 19.0, 15.0, 0.0, 20.0, 8.0, 0.9999999999999991, 20.0, 0.0, 15.0, 13.999999999999998, 12.0, 25.0, 0.0, 17.999999999999996, 5.000000000000002, 2.9999999999999996, 5.0, 8.999999999999998, 22.0, 5.0, 18.0, 26.0, 3.0, 0.9999999999999991, 14.000000000000002, 26.0, 2.0000000000000004, 5.0, 0.0, 0.9999999999999998, 2.0, 11.999999999999998, 5.0, 0.0, 20.0, 15.0, 0.0, 17.999999999999996, 5.000000000000002, 0.9999999999999998, 4.0, 26.0, 9.0, 20.0, 0.0, 9.0, 19.0, 26.0, 11.0, 14.0, 15.000000000000002, 22.999999999999996, 14.0, 26.0, 1.0000000000000002, 19.0, 0.0, 3.0, 18.0, 24.999999999999996, 16.0, 20.0, 15.0, 6.999999999999998, 18.0, 1.0, 16.0, 7.999999999999998, 25.0]\n"
     ]
    }
   ],
   "source": [
    "D1=[]\n",
    "L={}\n",
    "for j in range(0,k):\n",
    "    L[j] = np.dot(I,J[j])%26\n",
    "    print(L[j])\n",
    "    D1.extend(L[j].tolist())\n",
    "print(D1)"
   ]
  },
  {
   "cell_type": "code",
   "execution_count": 6,
   "metadata": {},
   "outputs": [
    {
     "name": "stdout",
     "output_type": "stream",
     "text": [
      "['t', 'h', 'e', ' ', 's', 't', 'u', 'd', 'y', ' ', 'o', 'f', 'z', 'm', 'e', 't', 'h', 'o', 'd', 's', 'z', 'f', 'o', 'r', ' ', 's', 'e', 'n', 'd', 'i', 'n', 'g', 'z', 'm', 'e', 's', 's', 'a', 'g', 'e', 's', ' ', 'i', 'n', ' ', 's', 'e', 'c', 'u', 'r', 'e', ' ', 'f', 'o', 'r', 'm', 'z', 'i', 'n', ' ', 's', 'u', 'c', 'h', 'z', 'a', 'z', 'w', 'a', 'y', ' ', 's', 'o', ' ', 't', 'h', 'a', 't', ' ', 'o', 'n', 'l', 'y', ' ', 'r', 'e', 'c', 'e', 'i', 'v', 'e', 'r', 'z', 'c', 'a', 'n', 'z', 'b', 'e', ' ', 'a', 'b', 'l', 'e', ' ', 't', 'o', ' ', 'r', 'e', 'a', 'd', 'z', 'i', 't', ' ', 'i', 's', 'z', 'k', 'n', 'o', 'w', 'n', 'z', 'a', 's', ' ', 'c', 'r', 'y', 'p', 't', 'o', 'g', 'r', 'a', 'p', 'h', 'y']\n",
      "The Decrypted Message:\n",
      "the study ofzmethodszfor sendingzmessages in secure formzin suchzazway so that only receiverzcanzbe able to readzit iszknownzas cryptography\n"
     ]
    }
   ],
   "source": [
    "D2=[]\n",
    "for x in D1:\n",
    "    for K,V in AlphaNums.items():\n",
    "        if V == round(x):\n",
    "            D2.extend(K)\n",
    "print(D2)\n",
    "\n",
    "Dcystr=\"\"\n",
    "for a in D2:\n",
    "    Dcystr += a\n",
    "print(\"The Decrypted Message:\")\n",
    "print(Dcystr)"
   ]
  },
  {
   "cell_type": "code",
   "execution_count": null,
   "metadata": {},
   "outputs": [],
   "source": []
  },
  {
   "cell_type": "code",
   "execution_count": null,
   "metadata": {},
   "outputs": [],
   "source": []
  }
 ],
 "metadata": {
  "kernelspec": {
   "display_name": "Python 3",
   "language": "python",
   "name": "python3"
  },
  "language_info": {
   "codemirror_mode": {
    "name": "ipython",
    "version": 3
   },
   "file_extension": ".py",
   "mimetype": "text/x-python",
   "name": "python",
   "nbconvert_exporter": "python",
   "pygments_lexer": "ipython3",
   "version": "3.8.3"
  }
 },
 "nbformat": 4,
 "nbformat_minor": 4
}
