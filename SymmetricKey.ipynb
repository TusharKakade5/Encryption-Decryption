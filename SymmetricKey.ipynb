{
 "cells": [
  {
   "cell_type": "code",
   "execution_count": 6,
   "metadata": {},
   "outputs": [
    {
     "name": "stdout",
     "output_type": "stream",
     "text": [
      "Public Key:\n",
      " [[4 1]\n",
      " [2 3]]\n",
      "Eigen Values:  [5.+0.j 2.+0.j]\n",
      "[[4. 1.]\n",
      " [2. 3.]]\n",
      "The Encrypted Message:\n",
      "jltjrtjbvxnvmmnruiimfr fseh yikwmmmoyogcxlxhsewsxrtjmegwiadbswtdacwqcysehdjlxjosplvxyyquffllcirrbftjfhamthhdyyhniabncwkgsubjacxldhltqgtptxem\n"
     ]
    }
   ],
   "source": [
    "#Symmetric Key Cryptography using LU Factorization\n",
    "import numpy as np\n",
    "import numpy\n",
    "import scipy\n",
    "import scipy.linalg   # SciPy Linear Algebra Library\n",
    "AlphaNums = { \"a\":1, \"b\":2, \"c\":3,\"d\":4, \"e\":5, \"f\":6, \"g\":7, \"h\":8, \"i\":9, \"j\":10, \"k\":11, \"l\":12, \"m\":13, \"n\":14,\n",
    "             \"o\":15,\"p\":16, \"q\":17, \"r\":18, \"s\":19, \"t\":20, \"u\":21, \"v\":22, \"w\":23, \"x\":24, \"y\":25, \"z\":26, \" \":0}\n",
    "\n",
    "#Define a Non singular Matrix A nof size (2 x 2), this will act as our Key.\n",
    "A =numpy.array([ [4, 1], [2, 3]])\n",
    "m= A.shape\n",
    "print(\"Public Key:\\n\", A)\n",
    "\n",
    "#Find Eigen Values\n",
    "w, v = scipy.linalg.eig(np.array([[4, 1], [2, 3]]))\n",
    "print(\"Eigen Values: \",w)\n",
    "#print(v)\n",
    "\n",
    "#Using Inbuilt Python function we compute L & U matrix for A\n",
    "A =numpy.array([ [4, 1], [2, 3]])\n",
    "m= A.shape\n",
    "P, L, U = scipy.linalg.lu(A)\n",
    "\n",
    "#Opening the dataset file to read the data\n",
    "H=[]\n",
    "file = open('DataSet1.txt', 'r')  \n",
    "while 1: \n",
    "      \n",
    "    # read by character \n",
    "    char = file.read(1)           \n",
    "    if not char:  \n",
    "        break\n",
    "\n",
    "    H.append(char)\n",
    "\n",
    "Len = len(H)\n",
    "file.close() \n",
    "\n",
    "#Converting message to a numerical equivalent list\n",
    "X = list()\n",
    "N = list()\n",
    "for ch in H:\n",
    "    AlphaNums[ch.lower()]\n",
    "    X.append(AlphaNums[ch.lower()])\n",
    "\n",
    "#Converting the numerical equivalent message into array blocks of size(2 x 1)\n",
    "P = np.array(X)\n",
    "N=np.array_split(P,(Len/2))\n",
    "\n",
    "#Encrypt the message\n",
    "#Apply Enccryption formula\n",
    "K = np.dot(L,U)\n",
    "print(K)\n",
    "Ey=[]\n",
    "J={}\n",
    "C={}\n",
    "k=int(Len/2);\n",
    "for i in range(0,k):\n",
    "    J[i] = (np.dot(K,N[i]))\n",
    "    C[i]=J[i]%26\n",
    "    C[i].tolist()\n",
    "    Ey.extend(C[i])\n",
    "\n",
    "Encrypted=[]\n",
    "for c in Ey:\n",
    "    for K,V in AlphaNums.items():\n",
    "        if V == (c):\n",
    "            Encrypted.extend(K)\n",
    "\n",
    "Enystr=\"\";\n",
    "for a in Encrypted:\n",
    "    Enystr += a\n",
    "print(\"The Encrypted Message:\")\n",
    "print(Enystr)"
   ]
  },
  {
   "cell_type": "code",
   "execution_count": 7,
   "metadata": {},
   "outputs": [
    {
     "name": "stdout",
     "output_type": "stream",
     "text": [
      "The Decrypted Message:\n",
      "the study ofzmethodszfor sendingzmessages in secure formzin suchzazway so that only receiverzcanzbe able to readzit iszknownzas cryptography\n"
     ]
    }
   ],
   "source": [
    "#Decryption of a Message\n",
    "#Find the inverse of LU\n",
    "D = np.dot(L,U)\n",
    "I = np.linalg.inv(D)\n",
    "\n",
    "D1=[]\n",
    "L={}\n",
    "for j in range(0,k):\n",
    "    L[j] = np.dot(I,J[j])%26\n",
    "    D1.extend(L[j].tolist())\n",
    "\n",
    "D2=[]\n",
    "for x in D1:\n",
    "    for K,V in AlphaNums.items():\n",
    "        if V == round((x)):\n",
    "            D2.extend(K)\n",
    "            \n",
    "Dcystr=\"\"\n",
    "for a in D2:\n",
    "    Dcystr += a\n",
    "print(\"The Decrypted Message:\")\n",
    "print(Dcystr)"
   ]
  },
  {
   "cell_type": "code",
   "execution_count": null,
   "metadata": {},
   "outputs": [],
   "source": []
  }
 ],
 "metadata": {
  "kernelspec": {
   "display_name": "Python 3",
   "language": "python",
   "name": "python3"
  },
  "language_info": {
   "codemirror_mode": {
    "name": "ipython",
    "version": 3
   },
   "file_extension": ".py",
   "mimetype": "text/x-python",
   "name": "python",
   "nbconvert_exporter": "python",
   "pygments_lexer": "ipython3",
   "version": "3.8.3"
  }
 },
 "nbformat": 4,
 "nbformat_minor": 4
}
