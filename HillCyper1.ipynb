{
 "cells": [
  {
   "cell_type": "markdown",
   "metadata": {},
   "source": [
    "Symmetric Key Cryptography using LU Factorization\n",
    "1) Define a Non singular Matrix A nof size (2 x 2), this will act as our Key.\n",
    "\n",
    "2) Using Inbuilt Python function we compute L & U matrix for A "
   ]
  },
  {
   "cell_type": "code",
   "execution_count": 24,
   "metadata": {},
   "outputs": [
    {
     "name": "stdout",
     "output_type": "stream",
     "text": [
      "A:\n",
      "array([[4, 1],\n",
      "       [2, 3]])\n",
      "P:\n",
      "array([[1., 0.],\n",
      "       [0., 1.]])\n",
      "L:\n",
      "array([[1. , 0. ],\n",
      "       [0.5, 1. ]])\n",
      "U:\n",
      "array([[4. , 1. ],\n",
      "       [0. , 2.5]])\n",
      "2\n"
     ]
    }
   ],
   "source": [
    "import pprint\n",
    "import numpy\n",
    "import scipy\n",
    "import scipy.linalg   # SciPy Linear Algebra Library\n",
    "\n",
    "\n",
    "A =numpy.array([ [4, 1], [2, 3]])\n",
    "m= A.shape\n",
    "P, L, U = scipy.linalg.lu(A)\n",
    "\n",
    "print(\"A:\")\n",
    "pprint.pprint(A)\n",
    "\n",
    "print(\"P:\")\n",
    "pprint.pprint(P)\n",
    "\n",
    "print(\"L:\")\n",
    "pprint.pprint(L)\n",
    "\n",
    "print(\"U:\")\n",
    "pprint.pprint(U)\n",
    "\n",
    "print(m[0])\n"
   ]
  },
  {
   "cell_type": "markdown",
   "metadata": {},
   "source": [
    "Define the Numerical Alphabet relative dictionary.\n",
    "Convert the Message into its numerical equivalent. "
   ]
  },
  {
   "cell_type": "code",
   "execution_count": 26,
   "metadata": {},
   "outputs": [
    {
     "name": "stdout",
     "output_type": "stream",
     "text": [
      "['W', 'e', 'l', 'c', 'o', 'm', 'e', ' ']\n",
      "8\n",
      "23\n",
      "5\n",
      "12\n",
      "3\n",
      "15\n",
      "13\n",
      "5\n",
      "0\n",
      "[23, 5, 12, 3, 15, 13, 5, 0]\n",
      "[23  5 12  3 15 13  5  0]\n",
      "[23  5]\n"
     ]
    }
   ],
   "source": [
    "import numpy as np\n",
    "AlphaNums = { \"a\":1, \"b\":2, \"c\":3,\"d\":4, \"e\":5, \"f\":6, \"g\":7, \"h\":8, \"i\":9, \"j\":10, \"k\":11, \"l\":12, \"m\":13, \"n\":14, \"o\":15,\"p\":16, \"q\":17, \"r\":18, \"s\":19, \"t\":20, \"u\":21, \"v\":22, \"w\":23, \"x\":24, \"y\":25, \"z\":26, \" \":0}\n",
    "Msg=\"Welcome \"\n",
    "Len = len(Msg)\n",
    "#Converting message to a list\n",
    "H = list(Msg)\n",
    "X = list()\n",
    "N = list()\n",
    "print(H)\n",
    "print(Len)\n",
    "for ch in H:\n",
    "    print(AlphaNums[ch.lower()])\n",
    "    X.append(AlphaNums[ch.lower()])\n",
    "print(X)\n",
    "#Converting the numerical equivalent message into array blocks of size(2 x 1)\n",
    "P = np.array(X)\n",
    "print(P)\n",
    "N=np.array_split(P,(Len/m[0]))\n",
    "print(N[0]) "
   ]
  },
  {
   "cell_type": "code",
   "execution_count": 27,
   "metadata": {},
   "outputs": [
    {
     "name": "stdout",
     "output_type": "stream",
     "text": [
      "[[4. 1.]\n",
      " [2. 3.]]\n",
      "[19.0, 9.0, 25.0, 7.0, 21.0, 17.0, 20.0, 10.0]\n",
      "['s', 'i', 'y', 'g', 'u', 'q', 't', 'j']\n",
      "The Encrypted Message:\n",
      "siyguqtj\n"
     ]
    }
   ],
   "source": [
    "#Encrypt the message\n",
    "#Apply Hill Enccryption formula\n",
    "K = np.dot(L,U)\n",
    "print(K)\n",
    "Ey=[]\n",
    "J={}\n",
    "C={}\n",
    "k=int(Len/2);\n",
    "for i in range(0,k):\n",
    "    J[i] = (np.dot(K,N[i]))\n",
    "    C[i]=J[i]%26\n",
    "    C[i].tolist()\n",
    "    Ey.extend(C[i])\n",
    "print(Ey)\n",
    "\n",
    "Encrypted=[]\n",
    "for c in Ey:\n",
    "    for K,V in AlphaNums.items():\n",
    "        if V == c:\n",
    "            Encrypted.extend(K)\n",
    "print(Encrypted)\n",
    "\n",
    "Enystr=\"\";\n",
    "for a in Encrypted:\n",
    "    Enystr += a\n",
    "print(\"The Encrypted Message:\")\n",
    "print(Enystr)"
   ]
  },
  {
   "cell_type": "code",
   "execution_count": 28,
   "metadata": {},
   "outputs": [
    {
     "name": "stdout",
     "output_type": "stream",
     "text": [
      "[[ 0.3 -0.1]\n",
      " [-0.2  0.4]]\n"
     ]
    }
   ],
   "source": [
    "#Decryption of a Message\n",
    "#Find the inverse of LU\n",
    "D = np.dot(L,U)\n",
    "I = np.linalg.inv(D)\n",
    "print(I)"
   ]
  },
  {
   "cell_type": "code",
   "execution_count": 29,
   "metadata": {},
   "outputs": [
    {
     "name": "stdout",
     "output_type": "stream",
     "text": [
      "[23.  5.]\n",
      "[12.  3.]\n",
      "[15. 13.]\n",
      "[5. 0.]\n",
      "[22.999999999999996, 5.0, 11.999999999999998, 3.0, 14.999999999999998, 13.0, 5.0, 0.0]\n"
     ]
    }
   ],
   "source": [
    "D1=[]\n",
    "L={}\n",
    "for j in range(0,k):\n",
    "    L[j] = np.dot(I,J[j])%26\n",
    "    print(L[j])\n",
    "    D1.extend(L[j].tolist())\n",
    "print(D1)"
   ]
  },
  {
   "cell_type": "code",
   "execution_count": 30,
   "metadata": {},
   "outputs": [
    {
     "name": "stdout",
     "output_type": "stream",
     "text": [
      "['w', 'e', 'l', 'c', 'o', 'm', 'e', ' ']\n",
      "The Decrypted Message:\n",
      "welcome \n"
     ]
    }
   ],
   "source": [
    "D2=[]\n",
    "for x in D1:\n",
    "    for K,V in AlphaNums.items():\n",
    "        if V == round(x):\n",
    "            D2.extend(K)\n",
    "print(D2)\n",
    "\n",
    "Dcystr=\"\"\n",
    "for a in D2:\n",
    "    Dcystr += a\n",
    "print(\"The Decrypted Message:\")\n",
    "print(Dcystr)"
   ]
  },
  {
   "cell_type": "code",
   "execution_count": null,
   "metadata": {},
   "outputs": [],
   "source": []
  },
  {
   "cell_type": "code",
   "execution_count": null,
   "metadata": {},
   "outputs": [],
   "source": []
  }
 ],
 "metadata": {
  "kernelspec": {
   "display_name": "Python 3",
   "language": "python",
   "name": "python3"
  },
  "language_info": {
   "codemirror_mode": {
    "name": "ipython",
    "version": 3
   },
   "file_extension": ".py",
   "mimetype": "text/x-python",
   "name": "python",
   "nbconvert_exporter": "python",
   "pygments_lexer": "ipython3",
   "version": "3.8.3"
  }
 },
 "nbformat": 4,
 "nbformat_minor": 4
}
